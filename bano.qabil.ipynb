{
 "cells": [
  {
   "cell_type": "markdown",
   "id": "7f84778e-1087-4f88-b81c-c24879bcaad5",
   "metadata": {},
   "source": [
    "Question1"
   ]
  },
  {
   "cell_type": "code",
   "execution_count": 2,
   "id": "78ad2e93-b049-4de0-a065-6df4b991ed03",
   "metadata": {},
   "outputs": [
    {
     "name": "stdin",
     "output_type": "stream",
     "text": [
      "enter number1 5\n",
      "enter number2 6\n"
     ]
    },
    {
     "name": "stdout",
     "output_type": "stream",
     "text": [
      "sum: 11\n"
     ]
    }
   ],
   "source": [
    "num1=int(input(\"enter number1\"))\n",
    "num2=int(input(\"enter number2\"))\n",
    "sum_result= num1+num2\n",
    "print(\"sum:\", sum_result)"
   ]
  },
  {
   "cell_type": "markdown",
   "id": "7e3e2fbf-32cb-43a5-abdb-d7e5795ef6b7",
   "metadata": {},
   "source": [
    "Question 2"
   ]
  },
  {
   "cell_type": "code",
   "execution_count": 6,
   "id": "ad5dd6b0-24bc-4f0b-b3e3-5f96c4f8112c",
   "metadata": {},
   "outputs": [
    {
     "name": "stdout",
     "output_type": "stream",
     "text": [
      "HelloWorld!\n"
     ]
    }
   ],
   "source": [
    "message= \"Hello\"\n",
    "message +=\"World!\"\n",
    "print(message)"
   ]
  },
  {
   "cell_type": "markdown",
   "id": "63e290e6-a581-4e52-bb4e-1e1524259503",
   "metadata": {},
   "source": [
    "question 3"
   ]
  },
  {
   "cell_type": "code",
   "execution_count": 7,
   "id": "80d53840-1c61-4e57-83a5-a5c9c7a4a69b",
   "metadata": {},
   "outputs": [
    {
     "name": "stdout",
     "output_type": "stream",
     "text": [
      "python is fun: True\n"
     ]
    }
   ],
   "source": [
    "is_python_fun = 5==5\n",
    "print(\"python is fun:\",is_python_fun)"
   ]
  },
  {
   "cell_type": "markdown",
   "id": "ba8df84b-9eb2-4c99-9ded-fed94496e525",
   "metadata": {},
   "source": [
    "Question 4"
   ]
  },
  {
   "cell_type": "code",
   "execution_count": 9,
   "id": "7594eabb-6a28-4b47-91f6-02c7316cbf99",
   "metadata": {},
   "outputs": [
    {
     "name": "stdout",
     "output_type": "stream",
     "text": [
      "fruits; ['mango', 'apple', 'banana']\n",
      "updated fruits; ['mango', 'apple', 'banana', 'strawberry']\n"
     ]
    }
   ],
   "source": [
    "fruits= ['mango', 'apple' , 'banana']\n",
    "print(\"fruits;\", fruits)\n",
    "fruits.append('strawberry')\n",
    "print(\"updated fruits;\",fruits)"
   ]
  },
  {
   "cell_type": "markdown",
   "id": "fd6a1d7d-7d8b-4ccc-9398-58d19ddc0a88",
   "metadata": {},
   "source": [
    "Question 4"
   ]
  },
  {
   "cell_type": "code",
   "execution_count": 11,
   "id": "9aa8fc83-9073-43b5-9137-397511d00fd5",
   "metadata": {},
   "outputs": [
    {
     "name": "stdin",
     "output_type": "stream",
     "text": [
      "value 55.33\n"
     ]
    },
    {
     "name": "stdout",
     "output_type": "stream",
     "text": [
      "Original price: 55.33 Converted price: 55\n"
     ]
    }
   ],
   "source": [
    "price=float(input(\"value\"))\n",
    "int_price=int(price)\n",
    "print(\"Original price:\", price, \"Converted price:\", int_price)"
   ]
  },
  {
   "cell_type": "markdown",
   "id": "0ac6cc69-96a3-4a4c-b93a-423843c16189",
   "metadata": {},
   "source": [
    "Question 5"
   ]
  },
  {
   "cell_type": "code",
   "execution_count": 12,
   "id": "1e0340dd-a4ee-4858-b512-f0756579205e",
   "metadata": {},
   "outputs": [
    {
     "name": "stdout",
     "output_type": "stream",
     "text": [
      "Student information: {'name': 'tipu', 'age': 20, 'grade': 'c'}\n"
     ]
    }
   ],
   "source": [
    "student_info={'name': 'tipu' , 'age': 20, 'grade':'c'}\n",
    "print(\"Student information:\", student_info)"
   ]
  },
  {
   "cell_type": "markdown",
   "id": "bc548145-655d-46d9-ac48-174e30021f09",
   "metadata": {},
   "source": [
    "Question 5"
   ]
  },
  {
   "cell_type": "code",
   "execution_count": 14,
   "id": "48c8dedd-b5e5-48fc-b453-56ce5aa3aa8d",
   "metadata": {},
   "outputs": [
    {
     "name": "stdout",
     "output_type": "stream",
     "text": [
      "Combined string:tipu passed, length: 11\n"
     ]
    }
   ],
   "source": [
    "string1= \"tipu\"\n",
    "string2= \" passed\"\n",
    "resultant_string= string1 +\"\"+ string2\n",
    "print(f\"Combined string:{resultant_string}, length: {len(resultant_string)}\")"
   ]
  },
  {
   "cell_type": "markdown",
   "id": "d375778d-c1a1-4695-8487-27b8076b58ed",
   "metadata": {},
   "source": [
    "Question 6"
   ]
  },
  {
   "cell_type": "code",
   "execution_count": 15,
   "id": "cbcc92de-4e96-42bb-9da2-4e78e7639ef5",
   "metadata": {},
   "outputs": [
    {
     "name": "stdout",
     "output_type": "stream",
     "text": [
      "Third day of week: Wednesday\n"
     ]
    }
   ],
   "source": [
    "days_of_week = (\"monday\" , \"Tuesday\", \"Wednesday\" , \"Thursday\" , \"Friday\" , \"Saturday\" , \"Sunday\" )\n",
    "third_day = days_of_week[2]\n",
    "print(\"Third day of week:\", third_day)"
   ]
  },
  {
   "cell_type": "code",
   "execution_count": null,
   "id": "3e9cb29b-5ee2-4128-8ae2-ede961732f90",
   "metadata": {},
   "outputs": [],
   "source": []
  }
 ],
 "metadata": {
  "kernelspec": {
   "display_name": "Python 3 (ipykernel)",
   "language": "python",
   "name": "python3"
  },
  "language_info": {
   "codemirror_mode": {
    "name": "ipython",
    "version": 3
   },
   "file_extension": ".py",
   "mimetype": "text/x-python",
   "name": "python",
   "nbconvert_exporter": "python",
   "pygments_lexer": "ipython3",
   "version": "3.10.10"
  }
 },
 "nbformat": 4,
 "nbformat_minor": 5
}
